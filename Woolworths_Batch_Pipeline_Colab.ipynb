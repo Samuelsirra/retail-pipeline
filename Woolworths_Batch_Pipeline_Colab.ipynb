{
  "cells": [
    {
      "cell_type": "markdown",
      "metadata": {},
      "source": [
        "# Woolworths Retail Batch Pipeline \u2014 Colab\n",
        "\n",
        "This notebook walks through a local simulation of the batch pipeline using DirectRunner (no GCP billing required).\n"
      ]
    },
    {
      "cell_type": "markdown",
      "metadata": {},
      "source": [
        "## 1) Setup\n",
        "Install dependencies and run the pipeline locally on sample data.\n"
      ]
    },
    {
      "cell_type": "code",
      "execution_count": null,
      "metadata": {},
      "outputs": [],
      "source": [
        "!pip install apache-beam[gcp]==2.48.0\n"
      ]
    },
    {
      "cell_type": "code",
      "execution_count": null,
      "metadata": {},
      "outputs": [],
      "source": [
        "# Run pipeline locally (DirectRunner)\n",
        "## !python pipeline/sales_pipeline.py --input sample_data/sales_2025-09-20.csv --output_bq project:dataset.sales --temp_location /tmp\n"
      ]
    },
    {
      "cell_type": "markdown",
      "metadata": {},
      "source": [
        "## Notes\n",
        "- To run on Dataflow create a Flex template and deploy via Cloud Build as described in `infra/cloudbuild.yaml`.\n",
        "- Update `dags/woolworths_batch_dag.py` with your bucket/project names before deploying to Composer.\n"
      ]
    }
  ],
  "metadata": {
    "kernelspec": {
      "display_name": "Python 3",
      "language": "python",
      "name": "python3"
    },
    "language_info": {
      "name": "python",
      "version": "3.8"
    }
  },
  "nbformat": 4,
  "nbformat_minor": 5
}